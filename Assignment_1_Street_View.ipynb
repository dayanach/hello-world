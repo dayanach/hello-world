{
  "nbformat": 4,
  "nbformat_minor": 0,
  "metadata": {
    "anaconda-cloud": {},
    "kernelspec": {
      "display_name": "Python 3",
      "language": "python",
      "name": "python3"
    },
    "language_info": {
      "codemirror_mode": {
        "name": "ipython",
        "version": 3
      },
      "file_extension": ".py",
      "mimetype": "text/x-python",
      "name": "python",
      "nbconvert_exporter": "python",
      "pygments_lexer": "ipython3",
      "version": "3.7.1"
    },
    "colab": {
      "name": "Assignment 1 - Street View.ipynb",
      "provenance": [],
      "machine_shape": "hm",
      "include_colab_link": true
    }
  },
  "cells": [
    {
      "cell_type": "markdown",
      "metadata": {
        "id": "view-in-github",
        "colab_type": "text"
      },
      "source": [
        "<a href=\"https://colab.research.google.com/github/dayanach/hello-world/blob/master/Assignment_1_Street_View.ipynb\" target=\"_parent\"><img src=\"https://colab.research.google.com/assets/colab-badge.svg\" alt=\"Open In Colab\"/></a>"
      ]
    },
    {
      "cell_type": "markdown",
      "metadata": {
        "id": "EKmRguC4xPIU",
        "colab_type": "text"
      },
      "source": [
        "# Assignment 1: Street View {-}\n",
        "The [Street View House Numbers Dataset](https://www.openml.org/d/41081) contains 32-by-32 RGB images centered around a single digit of a house number appearing in Google Street View. Many of the images do contain some distractors at the sides. It consists of 10 classes, 1 for each digit. Digit '1' has label 1, '9' has label 9 and '0' has label 10. Your goal is to build a model that recognizes the correct digit."
      ]
    },
    {
      "cell_type": "code",
      "metadata": {
        "id": "BCzSp6AAxPIW",
        "colab_type": "code",
        "colab": {
          "base_uri": "https://localhost:8080/",
          "height": 547
        },
        "outputId": "f1c8f1c7-1607-4901-b2aa-395b309eb41e"
      },
      "source": [
        "%matplotlib inline\n",
        "%pip install openml # Uncomment to run in Google Colab\n",
        "import openml as oml\n",
        "import numpy as np\n",
        "import matplotlib.pyplot as plt\n",
        "import sklearn"
      ],
      "execution_count": 1,
      "outputs": [
        {
          "output_type": "stream",
          "text": [
            "Collecting openml\n",
            "\u001b[?25l  Downloading https://files.pythonhosted.org/packages/d6/36/4b733c0b76b5e2716d2b281b62bc6e4c8986032e5d00ab14595afd71383f/openml-0.9.0.tar.gz (139kB)\n",
            "\u001b[K     |████████████████████████████████| 143kB 2.8MB/s \n",
            "\u001b[?25hCollecting liac-arff>=2.4.0 (from openml)\n",
            "  Downloading https://files.pythonhosted.org/packages/e9/35/fbc9217cfa91d98888b43e1a19c03a50d716108c58494c558c65e308f372/liac-arff-2.4.0.tar.gz\n",
            "Collecting xmltodict (from openml)\n",
            "  Downloading https://files.pythonhosted.org/packages/28/fd/30d5c1d3ac29ce229f6bdc40bbc20b28f716e8b363140c26eff19122d8a5/xmltodict-0.12.0-py2.py3-none-any.whl\n",
            "Requirement already satisfied: requests in /usr/local/lib/python3.6/dist-packages (from openml) (2.21.0)\n",
            "Requirement already satisfied: scikit-learn>=0.18 in /usr/local/lib/python3.6/dist-packages (from openml) (0.21.3)\n",
            "Requirement already satisfied: python-dateutil in /usr/local/lib/python3.6/dist-packages (from openml) (2.5.3)\n",
            "Requirement already satisfied: pandas>=0.19.2 in /usr/local/lib/python3.6/dist-packages (from openml) (0.24.2)\n",
            "Requirement already satisfied: scipy>=0.13.3 in /usr/local/lib/python3.6/dist-packages (from openml) (1.3.1)\n",
            "Requirement already satisfied: numpy>=1.6.2 in /usr/local/lib/python3.6/dist-packages (from openml) (1.16.5)\n",
            "Requirement already satisfied: chardet<3.1.0,>=3.0.2 in /usr/local/lib/python3.6/dist-packages (from requests->openml) (3.0.4)\n",
            "Requirement already satisfied: certifi>=2017.4.17 in /usr/local/lib/python3.6/dist-packages (from requests->openml) (2019.6.16)\n",
            "Requirement already satisfied: idna<2.9,>=2.5 in /usr/local/lib/python3.6/dist-packages (from requests->openml) (2.8)\n",
            "Requirement already satisfied: urllib3<1.25,>=1.21.1 in /usr/local/lib/python3.6/dist-packages (from requests->openml) (1.24.3)\n",
            "Requirement already satisfied: joblib>=0.11 in /usr/local/lib/python3.6/dist-packages (from scikit-learn>=0.18->openml) (0.13.2)\n",
            "Requirement already satisfied: six>=1.5 in /usr/local/lib/python3.6/dist-packages (from python-dateutil->openml) (1.12.0)\n",
            "Requirement already satisfied: pytz>=2011k in /usr/local/lib/python3.6/dist-packages (from pandas>=0.19.2->openml) (2018.9)\n",
            "Building wheels for collected packages: openml, liac-arff\n",
            "  Building wheel for openml (setup.py) ... \u001b[?25l\u001b[?25hdone\n",
            "  Created wheel for openml: filename=openml-0.9.0-cp36-none-any.whl size=168047 sha256=185fbebea16d3fe737226c2c8daa94658aef55951ce682741e922c7eb5c56c11\n",
            "  Stored in directory: /root/.cache/pip/wheels/ba/91/bb/74f93ae5dc60d713159def103484640861b338078fe978b8ee\n",
            "  Building wheel for liac-arff (setup.py) ... \u001b[?25l\u001b[?25hdone\n",
            "  Created wheel for liac-arff: filename=liac_arff-2.4.0-cp36-none-any.whl size=13333 sha256=78af78f6ef88d44a256b00b98a6ac1f8d10e1e3fb6465df9cb600fb6ddcab0cb\n",
            "  Stored in directory: /root/.cache/pip/wheels/d1/6a/e7/529dc54d76ecede4346164a09ae3168df358945612710f5203\n",
            "Successfully built openml liac-arff\n",
            "Installing collected packages: liac-arff, xmltodict, openml\n",
            "Successfully installed liac-arff-2.4.0 openml-0.9.0 xmltodict-0.12.0\n"
          ],
          "name": "stdout"
        }
      ]
    },
    {
      "cell_type": "code",
      "metadata": {
        "id": "SQNGEX9MxPIY",
        "colab_type": "code",
        "colab": {}
      },
      "source": [
        "# Download Streetview data. Takes a while the first time.\n",
        "SVHN = oml.datasets.get_dataset(41081)\n",
        "X, y, cats, attrs = SVHN.get_data(dataset_format='array',\n",
        "    target=SVHN.default_target_attribute)"
      ],
      "execution_count": 0,
      "outputs": []
    },
    {
      "cell_type": "code",
      "metadata": {
        "id": "XAXc-0D3xPIc",
        "colab_type": "code",
        "colab": {
          "base_uri": "https://localhost:8080/",
          "height": 160
        },
        "outputId": "d7f4fd55-74b0-4517-8b7e-35842057428c"
      },
      "source": [
        "# Plots image. Use grayscale=True for plotting grayscale images\n",
        "def plot_images(X, y, grayscale=False):\n",
        "    fig, axes = plt.subplots(1, len(X),  figsize=(10, 5))\n",
        "    if grayscale:\n",
        "        [ax.imshow(X[n].reshape(32, 32)/255, cmap='gray')\n",
        "         for n,ax in enumerate(axes)]\n",
        "    else:\n",
        "        [ax.imshow(X[n].reshape(32, 32, 3)/255) for n,ax in enumerate(axes)]\n",
        "    [ax.set_title((y[n]+1)) for n,ax in enumerate(axes)]\n",
        "    [ax.axis('off') for ax in axes]\n",
        "plot_images(X[0:5], y[0:5]);"
      ],
      "execution_count": 3,
      "outputs": [
        {
          "output_type": "display_data",
          "data": {
            "image/png": "[encoded data removed]",
            "text/plain": [
              "<Figure size 720x360 with 5 Axes>"
            ]
          },
          "metadata": {
            "tags": []
          }
        }
      ]
    },
    {
      "cell_type": "markdown",
      "metadata": {
        "id": "o07gIoYtxPIe",
        "colab_type": "text"
      },
      "source": [
        "> **Instructions and advice (remove before submission)**\n",
        ">  \n",
        "> * Answer the questions in this notebook, including the code, results, and discussions. \n",
        "> * Add precise explanations when interpreting the results of your experiments. Use markdown cells for this.\n",
        "> * Submit both this notebook and a PDF through Canvas. To create the PDF, see File > Export Notebook as PDFs.\n",
        "> * Submit only one notebook and one PDF per team. In Jupyter Lab, you can copy-paste cells (with results) into a single notebook. \n",
        "> * Keep the PDF below 20 pages. Remove these instructions and the general advise below in the final PDF.\n",
        "> * Avoid all(!) unnecessary outputs. Only output the answers to the questions. Add ';' behind lines that > generate output to suppress unnecessary output.\n",
        "> * All tasks can be completed with scikit-learn. You are allowed (but not required) to use other tools as well.\n",
        "> * Training models can take time. Make sure to start computations well in advance of the deadline. \n",
        "> * Be efficient. Don't try every model on all the data at once. Test your code on a small part of the data (even just 1%) until you are sure that there are no more bugs or other issues.\n",
        "> * Observe how long it takes to train different models on a small part of your data to learn whether the models are fast enough for what you want to do.\n",
        "> * You are allowed to run code elsewhere (e.g. in Python scripts) and store the results on file. If so, copy the code in this notebook and load/visualize/discuss the results here as well.\n",
        "> * On [Google Colab](https://colab.research.google.com/) you can run the notebook in the cloud."
      ]
    },
    {
      "cell_type": "markdown",
      "metadata": {
        "id": "psSDbMVGxPIf",
        "colab_type": "text"
      },
      "source": [
        "### Team details {-}\n",
        "Add the names of all team members and a short description of each member's contributions.   \n",
        "\n",
        "TEAM MEMBER 1 = Fabian Kok   \n",
        "\n",
        "Contributions:\n",
        "\n",
        "- Exercise 3/4\n",
        "\n",
        "TEAM MEMBER 2 = Maury Kros\n",
        "\n",
        "Contributions:\n",
        "\n",
        "- Exercise 1/2\n",
        "\n",
        "TEAM MEMBER 3 = Massimo Manca\n",
        "\n",
        "Contributions:\n",
        "\n",
        "- Exercise 5/6\n",
        "\n",
        "TEAM MEMBER 4 = Daan van Wely\n",
        "\n",
        "Contributions:\n",
        "\n",
        "- Exercise 1/2\n",
        "\n",
        "TEAM MEMBER 5 = Dayana Chong\n",
        "\n",
        "Contributions:\n",
        "\n",
        "- Exercise 5/6"
      ]
    },
    {
      "cell_type": "markdown",
      "metadata": {
        "id": "246jXYeOxPIg",
        "colab_type": "text"
      },
      "source": [
        "## 1. Evaluate different models (15 points) {-}\n",
        "- Take a stratified 10% subsample of the data. Plot the distribution of the classes (as a histogram) for both the original data and the subsample. \n",
        "- Evaluate k-Nearest Neighbors, Logistic Regression and Linear SVM on this sample, using their default hyperparameter settings. \n",
        "    - Use cross-validation with 3 folds, output the training accuracy and test accuracy including the standard deviations.\n",
        "- Discuss the results. Are they what you expected? Are the model over/underfitting? What does the standard deviation tell you? Do you think you can get better results with more training data?"
      ]
    },
    {
      "cell_type": "markdown",
      "metadata": {
        "id": "hXwFthm2xPIg",
        "colab_type": "text"
      },
      "source": [
        "## 2. Learning curves (20 points) {-}\n",
        "- Start with a 1% stratified subsample of the original data. Train all 3 classifiers and record both the accuracy (same as above) and the [training time](https://pythonhow.com/measure-execution-time-python-code/).  \n",
        "- Repeatedly **add** 1% more statified data (don't take a completely new 2% subsample). Measure accuracy and training time again.\n",
        "- Continue to at least 10% of the original data. Plot the results as a line graph, with training set size on the x-axis and accuracy and training time, respectively, on the y-axes.\n",
        "    - If the algorithms are sufficiently fast, you can continue to 100% as well.\n",
        "- Discuss your results. Which algorithms are fast/slow? Which require more data to get better results? Which ones tend to overfit? Which ones would benefit from more data?"
      ]
    },
    {
      "cell_type": "markdown",
      "metadata": {
        "id": "jA_hmRkPxPIh",
        "colab_type": "text"
      },
      "source": [
        "## 3. Data representation (20 points) {-}\n",
        "* Convert the images to grayscale (use the function below). Check whether the conversion is correct by plotting a few of the converted images.\n",
        "    * Is the grayscale representation better than the color representation? Does it yield better models? Why (not)? Run the necessary experiments and discuss. For instance, compare the performance of models trained on both representations.\n",
        "* Afterwards, normalize the data by substracting the mean of the pixel values from every image and dividing by the standard deviation of very image. \n",
        "    * Note: Do this for every image independently. Don't compute means or standard deviations over the entire training/test set\n",
        "    * Again, check whether you have done it correctly by plotting some of the converted images.\n",
        "    * Is the new representation better? Why (not)? Run the necessary experiments and discuss.\n",
        "* Finally, run [PCA (Principal Component Analysis)](https://scikit-learn.org/stable/modules/generated/sklearn.decomposition.PCA.html) on the data and see if that gives you a better (lower-dimensional) representation. Note that you need to use a pipeline here to avoid data leakage between your training and test set (see Tutorial 3).\n",
        "    * Try different numbers of components or use a solver to guess the optimal number of components\n",
        "    * Is the new representation better? Why (not)? Run the necessary experiments and discuss."
      ]
    },
    {
      "cell_type": "code",
      "metadata": {
        "id": "e4_Gfg9oxPIi",
        "colab_type": "code",
        "colab": {}
      },
      "source": [
        "# Converts an RGB encoded image to a grayscale image\n",
        "def rgb2gray(X, dim=32):\n",
        "    return np.expand_dims(np.dot(X.reshape(len(X), dim*dim, 3), [0.2990, 0.5870, 0.1140]), axis=3)\n",
        "X_gray = rgb2gray(X)"
      ],
      "execution_count": 0,
      "outputs": []
    },
    {
      "cell_type": "markdown",
      "metadata": {
        "id": "hmsCmJgSxPIk",
        "colab_type": "text"
      },
      "source": [
        "## 4. Regularization (20 points) {-}\n",
        "- Tune the algorithm's main regularization hyperparameter on the 10% stratified subsample using the normalized grayscale representation. These are the misclassification cost in SVMs (C), the regularization parameter in logistic regression (C), and the number of neighbors (n_neighbors) in kNN. \n",
        "- We expect the optimum for the C parameters to lie in $[10^{-12},10^{12}] and for n_neighbors between 1 and 50. C should be varied logarithmically, n_neighbors linearly. \n",
        "- Run a grid search over these ranges, using 3-fold cross-valdation, and plot both the training and test error. Start with a coarse grid (e.g. 5 values per hyperparameter), use a finer grid for the 'interesting' regions (where performance changes) if training time allows.\n",
        "- Plot the effect of every one of the hyperparameters (both the training and test score). Discuss the plots. For which values is the model over/underfitting? Is there a sweet spot?\n",
        "- Evaluate the optimized models (the best hyperparameter settings) on the rest of the (unseen) data and discuss your findings. Do the results generalize? If not, what can/ should you do? Discuss. Run additional experiments if it helps you confirm your claims."
      ]
    },
    {
      "cell_type": "markdown",
      "metadata": {
        "id": "m9MHFVBDxPIm",
        "colab_type": "text"
      },
      "source": [
        "## 5. Interpreting misclassifications (10 points) {-}\n",
        "- Chances are that your best model is not 100% accurate. Plot a few of the misclassified examples and their predicted and correct labels. Discuss. Are these indeed 'hard' examples that are easy to get wrong?\n",
        "- Plot the confusion matrix. Which digits are often confused with each other? Which digits are easier/harder to classify? Discuss."
      ]
    },
    {
      "cell_type": "markdown",
      "metadata": {
        "id": "yjlFdbYMxPIn",
        "colab_type": "text"
      },
      "source": [
        "## 6. Interpreting models (15 points) {-}\n",
        "- Try to understand what the linear models have learned by looking at their model parameters. Are there features (pixels) that are more important than others? What does that tell you?\n",
        "- Visualize the model parameters of the best (tuned) models as a 32x32 matrix, for each class individually. This means training 10 models in a one-vs-all fashion. Does this help you understand what the model is paying attention to?\n",
        "- Do the same for an underfitted and an overfitted version of logistic regression. What changes? Is the model paying attention to different parts of the image now?"
      ]
    },
    {
      "cell_type": "markdown",
      "metadata": {
        "id": "tmdCA-AMxPIn",
        "colab_type": "text"
      },
      "source": [
        "Good luck!"
      ]
    }
  ]
}